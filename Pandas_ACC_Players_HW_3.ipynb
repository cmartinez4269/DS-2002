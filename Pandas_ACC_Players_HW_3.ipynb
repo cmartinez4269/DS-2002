{
  "nbformat": 4,
  "nbformat_minor": 0,
  "metadata": {
    "colab": {
      "provenance": [],
      "authorship_tag": "ABX9TyOtHd4vaIAerPW6WB6FTa+M",
      "include_colab_link": true
    },
    "kernelspec": {
      "name": "python3",
      "display_name": "Python 3"
    },
    "language_info": {
      "name": "python"
    }
  },
  "cells": [
    {
      "cell_type": "markdown",
      "metadata": {
        "id": "view-in-github",
        "colab_type": "text"
      },
      "source": [
        "<a href=\"https://colab.research.google.com/github/cmartinez4269/DS-2002/blob/main/Pandas_ACC_Players_HW_3.ipynb\" target=\"_parent\"><img src=\"https://colab.research.google.com/assets/colab-badge.svg\" alt=\"Open In Colab\"/></a>"
      ]
    },
    {
      "cell_type": "code",
      "execution_count": null,
      "metadata": {
        "colab": {
          "base_uri": "https://localhost:8080/",
          "height": 342
        },
        "id": "wEGLj6J_XyWs",
        "outputId": "9d88fba0-dc33-4257-ec04-2c9378ee687a"
      },
      "outputs": [
        {
          "output_type": "execute_result",
          "data": {
            "text/plain": [
              "  Unnamed: 0     Unnamed: 1 Unnamed: 2 Unnamed: 3      Unnamed: 4 Totals  \\\n",
              "0         Rk         Player      Class        Pos          School      G   \n",
              "1          1   Amaree Abram         SO          G    Georgia Tech     10   \n",
              "2          2   Sola Adebisi         FR          F   Florida State      7   \n",
              "3          3  Prince Aligbe         SO          F  Boston College     35   \n",
              "4          4     Abe Atiyeh         SR          G  Boston College      4   \n",
              "\n",
              "  Unnamed: 6 Unnamed: 7 Unnamed: 8 Unnamed: 9  ... Unnamed: 11 Unnamed: 12  \\\n",
              "0         MP        TRB        AST        STL  ...         TOV          PF   \n",
              "1        108         17         11          1  ...           9          10   \n",
              "2          9          1          1          0  ...           1           1   \n",
              "3        651        119         21         15  ...          30          51   \n",
              "4          6          0          0          0  ...           1           0   \n",
              "\n",
              "  Unnamed: 13 Shooting Unnamed: 15 Unnamed: 16 Unnamed: 17 Advanced  \\\n",
              "0         PTS      FG%         2P%         3P%         FT%      PER   \n",
              "1          34    0.262       0.318         0.2       0.615      4.1   \n",
              "2           2      0.5         0.5         NaN         NaN      3.5   \n",
              "3         164    0.435       0.522       0.147        0.62      9.4   \n",
              "4           3    0.333           0           1         NaN      1.1   \n",
              "\n",
              "  Unnamed: 19 Unnamed: 20  \n",
              "0          WS         BPM  \n",
              "1        -0.1        -6.4  \n",
              "2           0        -6.7  \n",
              "3         0.9        -1.3  \n",
              "4           0        -8.2  \n",
              "\n",
              "[5 rows x 21 columns]"
            ],
            "text/html": [
              "\n",
              "  <div id=\"df-9e66be43-59f2-479e-9b18-031b7522d76a\" class=\"colab-df-container\">\n",
              "    <div>\n",
              "<style scoped>\n",
              "    .dataframe tbody tr th:only-of-type {\n",
              "        vertical-align: middle;\n",
              "    }\n",
              "\n",
              "    .dataframe tbody tr th {\n",
              "        vertical-align: top;\n",
              "    }\n",
              "\n",
              "    .dataframe thead th {\n",
              "        text-align: right;\n",
              "    }\n",
              "</style>\n",
              "<table border=\"1\" class=\"dataframe\">\n",
              "  <thead>\n",
              "    <tr style=\"text-align: right;\">\n",
              "      <th></th>\n",
              "      <th>Unnamed: 0</th>\n",
              "      <th>Unnamed: 1</th>\n",
              "      <th>Unnamed: 2</th>\n",
              "      <th>Unnamed: 3</th>\n",
              "      <th>Unnamed: 4</th>\n",
              "      <th>Totals</th>\n",
              "      <th>Unnamed: 6</th>\n",
              "      <th>Unnamed: 7</th>\n",
              "      <th>Unnamed: 8</th>\n",
              "      <th>Unnamed: 9</th>\n",
              "      <th>...</th>\n",
              "      <th>Unnamed: 11</th>\n",
              "      <th>Unnamed: 12</th>\n",
              "      <th>Unnamed: 13</th>\n",
              "      <th>Shooting</th>\n",
              "      <th>Unnamed: 15</th>\n",
              "      <th>Unnamed: 16</th>\n",
              "      <th>Unnamed: 17</th>\n",
              "      <th>Advanced</th>\n",
              "      <th>Unnamed: 19</th>\n",
              "      <th>Unnamed: 20</th>\n",
              "    </tr>\n",
              "  </thead>\n",
              "  <tbody>\n",
              "    <tr>\n",
              "      <th>0</th>\n",
              "      <td>Rk</td>\n",
              "      <td>Player</td>\n",
              "      <td>Class</td>\n",
              "      <td>Pos</td>\n",
              "      <td>School</td>\n",
              "      <td>G</td>\n",
              "      <td>MP</td>\n",
              "      <td>TRB</td>\n",
              "      <td>AST</td>\n",
              "      <td>STL</td>\n",
              "      <td>...</td>\n",
              "      <td>TOV</td>\n",
              "      <td>PF</td>\n",
              "      <td>PTS</td>\n",
              "      <td>FG%</td>\n",
              "      <td>2P%</td>\n",
              "      <td>3P%</td>\n",
              "      <td>FT%</td>\n",
              "      <td>PER</td>\n",
              "      <td>WS</td>\n",
              "      <td>BPM</td>\n",
              "    </tr>\n",
              "    <tr>\n",
              "      <th>1</th>\n",
              "      <td>1</td>\n",
              "      <td>Amaree Abram</td>\n",
              "      <td>SO</td>\n",
              "      <td>G</td>\n",
              "      <td>Georgia Tech</td>\n",
              "      <td>10</td>\n",
              "      <td>108</td>\n",
              "      <td>17</td>\n",
              "      <td>11</td>\n",
              "      <td>1</td>\n",
              "      <td>...</td>\n",
              "      <td>9</td>\n",
              "      <td>10</td>\n",
              "      <td>34</td>\n",
              "      <td>0.262</td>\n",
              "      <td>0.318</td>\n",
              "      <td>0.2</td>\n",
              "      <td>0.615</td>\n",
              "      <td>4.1</td>\n",
              "      <td>-0.1</td>\n",
              "      <td>-6.4</td>\n",
              "    </tr>\n",
              "    <tr>\n",
              "      <th>2</th>\n",
              "      <td>2</td>\n",
              "      <td>Sola Adebisi</td>\n",
              "      <td>FR</td>\n",
              "      <td>F</td>\n",
              "      <td>Florida State</td>\n",
              "      <td>7</td>\n",
              "      <td>9</td>\n",
              "      <td>1</td>\n",
              "      <td>1</td>\n",
              "      <td>0</td>\n",
              "      <td>...</td>\n",
              "      <td>1</td>\n",
              "      <td>1</td>\n",
              "      <td>2</td>\n",
              "      <td>0.5</td>\n",
              "      <td>0.5</td>\n",
              "      <td>NaN</td>\n",
              "      <td>NaN</td>\n",
              "      <td>3.5</td>\n",
              "      <td>0</td>\n",
              "      <td>-6.7</td>\n",
              "    </tr>\n",
              "    <tr>\n",
              "      <th>3</th>\n",
              "      <td>3</td>\n",
              "      <td>Prince Aligbe</td>\n",
              "      <td>SO</td>\n",
              "      <td>F</td>\n",
              "      <td>Boston College</td>\n",
              "      <td>35</td>\n",
              "      <td>651</td>\n",
              "      <td>119</td>\n",
              "      <td>21</td>\n",
              "      <td>15</td>\n",
              "      <td>...</td>\n",
              "      <td>30</td>\n",
              "      <td>51</td>\n",
              "      <td>164</td>\n",
              "      <td>0.435</td>\n",
              "      <td>0.522</td>\n",
              "      <td>0.147</td>\n",
              "      <td>0.62</td>\n",
              "      <td>9.4</td>\n",
              "      <td>0.9</td>\n",
              "      <td>-1.3</td>\n",
              "    </tr>\n",
              "    <tr>\n",
              "      <th>4</th>\n",
              "      <td>4</td>\n",
              "      <td>Abe Atiyeh</td>\n",
              "      <td>SR</td>\n",
              "      <td>G</td>\n",
              "      <td>Boston College</td>\n",
              "      <td>4</td>\n",
              "      <td>6</td>\n",
              "      <td>0</td>\n",
              "      <td>0</td>\n",
              "      <td>0</td>\n",
              "      <td>...</td>\n",
              "      <td>1</td>\n",
              "      <td>0</td>\n",
              "      <td>3</td>\n",
              "      <td>0.333</td>\n",
              "      <td>0</td>\n",
              "      <td>1</td>\n",
              "      <td>NaN</td>\n",
              "      <td>1.1</td>\n",
              "      <td>0</td>\n",
              "      <td>-8.2</td>\n",
              "    </tr>\n",
              "  </tbody>\n",
              "</table>\n",
              "<p>5 rows × 21 columns</p>\n",
              "</div>\n",
              "    <div class=\"colab-df-buttons\">\n",
              "\n",
              "  <div class=\"colab-df-container\">\n",
              "    <button class=\"colab-df-convert\" onclick=\"convertToInteractive('df-9e66be43-59f2-479e-9b18-031b7522d76a')\"\n",
              "            title=\"Convert this dataframe to an interactive table.\"\n",
              "            style=\"display:none;\">\n",
              "\n",
              "  <svg xmlns=\"http://www.w3.org/2000/svg\" height=\"24px\" viewBox=\"0 -960 960 960\">\n",
              "    <path d=\"M120-120v-720h720v720H120Zm60-500h600v-160H180v160Zm220 220h160v-160H400v160Zm0 220h160v-160H400v160ZM180-400h160v-160H180v160Zm440 0h160v-160H620v160ZM180-180h160v-160H180v160Zm440 0h160v-160H620v160Z\"/>\n",
              "  </svg>\n",
              "    </button>\n",
              "\n",
              "  <style>\n",
              "    .colab-df-container {\n",
              "      display:flex;\n",
              "      gap: 12px;\n",
              "    }\n",
              "\n",
              "    .colab-df-convert {\n",
              "      background-color: #E8F0FE;\n",
              "      border: none;\n",
              "      border-radius: 50%;\n",
              "      cursor: pointer;\n",
              "      display: none;\n",
              "      fill: #1967D2;\n",
              "      height: 32px;\n",
              "      padding: 0 0 0 0;\n",
              "      width: 32px;\n",
              "    }\n",
              "\n",
              "    .colab-df-convert:hover {\n",
              "      background-color: #E2EBFA;\n",
              "      box-shadow: 0px 1px 2px rgba(60, 64, 67, 0.3), 0px 1px 3px 1px rgba(60, 64, 67, 0.15);\n",
              "      fill: #174EA6;\n",
              "    }\n",
              "\n",
              "    .colab-df-buttons div {\n",
              "      margin-bottom: 4px;\n",
              "    }\n",
              "\n",
              "    [theme=dark] .colab-df-convert {\n",
              "      background-color: #3B4455;\n",
              "      fill: #D2E3FC;\n",
              "    }\n",
              "\n",
              "    [theme=dark] .colab-df-convert:hover {\n",
              "      background-color: #434B5C;\n",
              "      box-shadow: 0px 1px 3px 1px rgba(0, 0, 0, 0.15);\n",
              "      filter: drop-shadow(0px 1px 2px rgba(0, 0, 0, 0.3));\n",
              "      fill: #FFFFFF;\n",
              "    }\n",
              "  </style>\n",
              "\n",
              "    <script>\n",
              "      const buttonEl =\n",
              "        document.querySelector('#df-9e66be43-59f2-479e-9b18-031b7522d76a button.colab-df-convert');\n",
              "      buttonEl.style.display =\n",
              "        google.colab.kernel.accessAllowed ? 'block' : 'none';\n",
              "\n",
              "      async function convertToInteractive(key) {\n",
              "        const element = document.querySelector('#df-9e66be43-59f2-479e-9b18-031b7522d76a');\n",
              "        const dataTable =\n",
              "          await google.colab.kernel.invokeFunction('convertToInteractive',\n",
              "                                                    [key], {});\n",
              "        if (!dataTable) return;\n",
              "\n",
              "        const docLinkHtml = 'Like what you see? Visit the ' +\n",
              "          '<a target=\"_blank\" href=https://colab.research.google.com/notebooks/data_table.ipynb>data table notebook</a>'\n",
              "          + ' to learn more about interactive tables.';\n",
              "        element.innerHTML = '';\n",
              "        dataTable['output_type'] = 'display_data';\n",
              "        await google.colab.output.renderOutput(dataTable, element);\n",
              "        const docLink = document.createElement('div');\n",
              "        docLink.innerHTML = docLinkHtml;\n",
              "        element.appendChild(docLink);\n",
              "      }\n",
              "    </script>\n",
              "  </div>\n",
              "\n",
              "\n",
              "<div id=\"df-ca3b7c13-f5a5-4553-91de-842d6d672665\">\n",
              "  <button class=\"colab-df-quickchart\" onclick=\"quickchart('df-ca3b7c13-f5a5-4553-91de-842d6d672665')\"\n",
              "            title=\"Suggest charts\"\n",
              "            style=\"display:none;\">\n",
              "\n",
              "<svg xmlns=\"http://www.w3.org/2000/svg\" height=\"24px\"viewBox=\"0 0 24 24\"\n",
              "     width=\"24px\">\n",
              "    <g>\n",
              "        <path d=\"M19 3H5c-1.1 0-2 .9-2 2v14c0 1.1.9 2 2 2h14c1.1 0 2-.9 2-2V5c0-1.1-.9-2-2-2zM9 17H7v-7h2v7zm4 0h-2V7h2v10zm4 0h-2v-4h2v4z\"/>\n",
              "    </g>\n",
              "</svg>\n",
              "  </button>\n",
              "\n",
              "<style>\n",
              "  .colab-df-quickchart {\n",
              "      --bg-color: #E8F0FE;\n",
              "      --fill-color: #1967D2;\n",
              "      --hover-bg-color: #E2EBFA;\n",
              "      --hover-fill-color: #174EA6;\n",
              "      --disabled-fill-color: #AAA;\n",
              "      --disabled-bg-color: #DDD;\n",
              "  }\n",
              "\n",
              "  [theme=dark] .colab-df-quickchart {\n",
              "      --bg-color: #3B4455;\n",
              "      --fill-color: #D2E3FC;\n",
              "      --hover-bg-color: #434B5C;\n",
              "      --hover-fill-color: #FFFFFF;\n",
              "      --disabled-bg-color: #3B4455;\n",
              "      --disabled-fill-color: #666;\n",
              "  }\n",
              "\n",
              "  .colab-df-quickchart {\n",
              "    background-color: var(--bg-color);\n",
              "    border: none;\n",
              "    border-radius: 50%;\n",
              "    cursor: pointer;\n",
              "    display: none;\n",
              "    fill: var(--fill-color);\n",
              "    height: 32px;\n",
              "    padding: 0;\n",
              "    width: 32px;\n",
              "  }\n",
              "\n",
              "  .colab-df-quickchart:hover {\n",
              "    background-color: var(--hover-bg-color);\n",
              "    box-shadow: 0 1px 2px rgba(60, 64, 67, 0.3), 0 1px 3px 1px rgba(60, 64, 67, 0.15);\n",
              "    fill: var(--button-hover-fill-color);\n",
              "  }\n",
              "\n",
              "  .colab-df-quickchart-complete:disabled,\n",
              "  .colab-df-quickchart-complete:disabled:hover {\n",
              "    background-color: var(--disabled-bg-color);\n",
              "    fill: var(--disabled-fill-color);\n",
              "    box-shadow: none;\n",
              "  }\n",
              "\n",
              "  .colab-df-spinner {\n",
              "    border: 2px solid var(--fill-color);\n",
              "    border-color: transparent;\n",
              "    border-bottom-color: var(--fill-color);\n",
              "    animation:\n",
              "      spin 1s steps(1) infinite;\n",
              "  }\n",
              "\n",
              "  @keyframes spin {\n",
              "    0% {\n",
              "      border-color: transparent;\n",
              "      border-bottom-color: var(--fill-color);\n",
              "      border-left-color: var(--fill-color);\n",
              "    }\n",
              "    20% {\n",
              "      border-color: transparent;\n",
              "      border-left-color: var(--fill-color);\n",
              "      border-top-color: var(--fill-color);\n",
              "    }\n",
              "    30% {\n",
              "      border-color: transparent;\n",
              "      border-left-color: var(--fill-color);\n",
              "      border-top-color: var(--fill-color);\n",
              "      border-right-color: var(--fill-color);\n",
              "    }\n",
              "    40% {\n",
              "      border-color: transparent;\n",
              "      border-right-color: var(--fill-color);\n",
              "      border-top-color: var(--fill-color);\n",
              "    }\n",
              "    60% {\n",
              "      border-color: transparent;\n",
              "      border-right-color: var(--fill-color);\n",
              "    }\n",
              "    80% {\n",
              "      border-color: transparent;\n",
              "      border-right-color: var(--fill-color);\n",
              "      border-bottom-color: var(--fill-color);\n",
              "    }\n",
              "    90% {\n",
              "      border-color: transparent;\n",
              "      border-bottom-color: var(--fill-color);\n",
              "    }\n",
              "  }\n",
              "</style>\n",
              "\n",
              "  <script>\n",
              "    async function quickchart(key) {\n",
              "      const quickchartButtonEl =\n",
              "        document.querySelector('#' + key + ' button');\n",
              "      quickchartButtonEl.disabled = true;  // To prevent multiple clicks.\n",
              "      quickchartButtonEl.classList.add('colab-df-spinner');\n",
              "      try {\n",
              "        const charts = await google.colab.kernel.invokeFunction(\n",
              "            'suggestCharts', [key], {});\n",
              "      } catch (error) {\n",
              "        console.error('Error during call to suggestCharts:', error);\n",
              "      }\n",
              "      quickchartButtonEl.classList.remove('colab-df-spinner');\n",
              "      quickchartButtonEl.classList.add('colab-df-quickchart-complete');\n",
              "    }\n",
              "    (() => {\n",
              "      let quickchartButtonEl =\n",
              "        document.querySelector('#df-ca3b7c13-f5a5-4553-91de-842d6d672665 button');\n",
              "      quickchartButtonEl.style.display =\n",
              "        google.colab.kernel.accessAllowed ? 'block' : 'none';\n",
              "    })();\n",
              "  </script>\n",
              "</div>\n",
              "\n",
              "    </div>\n",
              "  </div>\n"
            ],
            "application/vnd.google.colaboratory.intrinsic+json": {
              "type": "dataframe",
              "variable_name": "acc_basketball_df"
            }
          },
          "metadata": {},
          "execution_count": 30
        }
      ],
      "source": [
        "import pandas as pd\n",
        "\n",
        "#1.a) Load the CSV file\n",
        "acc_basketball_df = pd.read_csv('/content/sample_data/acc_players-2324F (2).csv')\n",
        "\n",
        "#1.b) Display first 5 rows of the DataFrame to understand the structure of the data.\n",
        "acc_basketball_df.head(5)"
      ]
    },
    {
      "cell_type": "code",
      "source": [
        "print(acc_basketball_df.columns)"
      ],
      "metadata": {
        "colab": {
          "base_uri": "https://localhost:8080/"
        },
        "id": "aSqqkjHkZQXg",
        "outputId": "801d3d2a-5f30-4a5d-a294-5fa92abea9ad"
      },
      "execution_count": null,
      "outputs": [
        {
          "output_type": "stream",
          "name": "stdout",
          "text": [
            "Index(['Unnamed: 0', 'Unnamed: 1', 'Unnamed: 2', 'Unnamed: 3', 'Unnamed: 4',\n",
            "       'Totals', 'Unnamed: 6', 'Unnamed: 7', 'Unnamed: 8', 'Unnamed: 9',\n",
            "       'Unnamed: 10', 'Unnamed: 11', 'Unnamed: 12', 'Unnamed: 13', 'Shooting',\n",
            "       'Unnamed: 15', 'Unnamed: 16', 'Unnamed: 17', 'Advanced', 'Unnamed: 19',\n",
            "       'Unnamed: 20'],\n",
            "      dtype='object')\n"
          ]
        }
      ]
    },
    {
      "cell_type": "code",
      "source": [
        "#Change column names\n",
        "acc_basketball_df.rename(columns={'Unnamed: 0': 'Rk', 'Unnamed: 1': 'Player', 'Unnamed: 2': 'Class', 'Unnamed: 3': 'Pos', 'Unnamed: 4': 'School', 'Unnamed: 6': 'MP', 'Unnamed: 7': 'TRB', 'Unnamed: 8': 'AST', 'Unnamed: 9': 'STL', 'Unnamed: 11': 'TOV', 'Unnamed: 12': 'PF', 'Unnamed: 13': 'PTS', 'Unnamed: 15': '2P%', 'Unnamed: 16': '3P%', 'Unnamed: 17': 'FT%', 'Unnamed: 19': 'WS', 'Unnamed: 20': 'BPM'}, inplace=True)\n",
        "print(acc_basketball_df.columns)"
      ],
      "metadata": {
        "colab": {
          "base_uri": "https://localhost:8080/"
        },
        "id": "VTFDW8ylzGSR",
        "outputId": "851bc1b5-594f-4a8c-b4a2-85ec76f2c9aa"
      },
      "execution_count": null,
      "outputs": [
        {
          "output_type": "stream",
          "name": "stdout",
          "text": [
            "Index(['Rk', 'Player', 'Class', 'Pos', 'School', 'Totals', 'MP', 'TRB', 'AST',\n",
            "       'STL', 'Unnamed: 10', 'TOV', 'PF', 'PTS', 'Shooting', '2P%', '3P%',\n",
            "       'FT%', 'Advanced', 'WS', 'BPM'],\n",
            "      dtype='object')\n"
          ]
        }
      ]
    },
    {
      "cell_type": "code",
      "source": [
        "#2.a) Calculate the total points scored by all players combined.\n",
        "acc_basketball_df['PTS'] = pd.to_numeric(acc_basketball_df['PTS'], errors='coerce')\n",
        "\n",
        "total_points = acc_basketball_df['PTS'].sum()\n",
        "print(\"Total points scored by all players combined:\", total_points)"
      ],
      "metadata": {
        "colab": {
          "base_uri": "https://localhost:8080/"
        },
        "id": "rKH-tWoRcvi_",
        "outputId": "707c34c3-f107-4b6c-b87c-7e902d3f4165"
      },
      "execution_count": null,
      "outputs": [
        {
          "output_type": "stream",
          "name": "stdout",
          "text": [
            "Total points scored by all players combined: 38411.0\n"
          ]
        }
      ]
    },
    {
      "cell_type": "code",
      "source": [
        "#2.b) Find the player who has played the most minutes (MP).\n",
        "acc_basketball_df['MP'] = pd.to_numeric(acc_basketball_df['MP'], errors='coerce')\n",
        "most_minutes_player = acc_basketball_df.loc[acc_basketball_df['MP'].idxmax()]['Player']\n",
        "print('The player with the most minutes played is:', most_minutes_player)"
      ],
      "metadata": {
        "colab": {
          "base_uri": "https://localhost:8080/"
        },
        "id": "DWTqSDf8zhfz",
        "outputId": "cc2bd0f6-f180-4b94-c034-11fdd5bc7b68"
      },
      "execution_count": null,
      "outputs": [
        {
          "output_type": "stream",
          "name": "stdout",
          "text": [
            "The player with the most minutes played is: Casey Morsell\n"
          ]
        }
      ]
    },
    {
      "cell_type": "code",
      "source": [
        "#2c. Identify the top 5 players (TRB).\n",
        "acc_basketball_df['TRB'] = pd.to_numeric(acc_basketball_df['TRB'], errors='coerce')\n",
        "total_rebounds = acc_basketball_df.nlargest(5, 'TRB',)['Player']\n",
        "print('The top 5 players in terms of total rebounds are:',  total_rebounds)"
      ],
      "metadata": {
        "colab": {
          "base_uri": "https://localhost:8080/"
        },
        "id": "4Svt-i8lZn3t",
        "outputId": "41870fa3-d778-4d5c-b9c2-c19fb2ebd382"
      },
      "execution_count": null,
      "outputs": [
        {
          "output_type": "stream",
          "name": "stdout",
          "text": [
            "The top 5 players in terms of total rebounds are: 6        Armando Bacot\n",
            "179    Ian Schieffelin\n",
            "91     Harrison Ingram\n",
            "45      Mohamed Diarra\n",
            "150      Norchad Omier\n",
            "Name: Player, dtype: object\n"
          ]
        }
      ]
    },
    {
      "cell_type": "code",
      "source": [
        "#3.a) Create a new DF containing only players who played more than 500 minutes.\n",
        "acc_basketball_df['MP'] = pd.to_numeric(acc_basketball_df['MP'], errors='coerce')\n",
        "five_hundo = acc_basketball_df[acc_basketball_df['MP'] > 500]\n",
        "print(five_hundo)"
      ],
      "metadata": {
        "colab": {
          "base_uri": "https://localhost:8080/"
        },
        "id": "58hZdKRyEMNL",
        "outputId": "aac458d6-c971-463a-a0bd-2f9f3881ab0a"
      },
      "execution_count": null,
      "outputs": [
        {
          "output_type": "stream",
          "name": "stdout",
          "text": [
            "      Rk            Player Class Pos          School Totals      MP    TRB  \\\n",
            "3      3     Prince Aligbe    SO   F  Boston College     35   651.0  119.0   \n",
            "5      5       Zack Austin    JR   F      Pittsburgh     33   746.0  137.0   \n",
            "6      6     Armando Bacot    SR   F  North Carolina     37  1123.0  380.0   \n",
            "8      8     Reece Beekman    SR   G        Virginia     34  1114.0  124.0   \n",
            "10    10        Chris Bell    SO   F        Syracuse     32   865.0   75.0   \n",
            "..   ...               ...   ...  ..             ...    ...     ...    ...   \n",
            "204  204     Jamir Watkins    JR   F   Florida State     33   928.0  199.0   \n",
            "207  207         Tre White    SO   G      Louisville     29   907.0  170.0   \n",
            "208  208  Chauncey Wiggins    SO   F         Clemson     36   639.0   76.0   \n",
            "210  210   Curtis Williams    FR   G      Louisville     32   564.0   42.0   \n",
            "216  216    Jaeden Zackery    JR   G  Boston College     36  1216.0  119.0   \n",
            "\n",
            "     AST STL  ... TOV   PF    PTS  Shooting    2P%    3P%    FT% Advanced  \\\n",
            "3     21  15  ...  30   51  164.0     0.435  0.522  0.147   0.62      9.4   \n",
            "5     29  32  ...  13   35  216.0     0.417  0.563  0.295  0.737       18   \n",
            "6     56  22  ...  60  100  538.0      0.54  0.544    0.4  0.781     24.6   \n",
            "8    212  68  ...  70   43  486.0     0.443  0.487   0.31  0.754     23.4   \n",
            "10    21  18  ...  26   58  384.0     0.434  0.459   0.42  0.842     14.9   \n",
            "..   ...  ..  ...  ..  ...    ...       ...    ...    ...    ...      ...   \n",
            "204   91  64  ...  84   92  514.0     0.457    0.5  0.344  0.795     24.2   \n",
            "207   39  24  ...  53   66  357.0     0.456  0.515  0.299  0.752       15   \n",
            "208   33   6  ...  26   46  196.0     0.442  0.528  0.349  0.714       11   \n",
            "210   20  12  ...  26   24  170.0     0.317  0.373  0.287  0.714      5.9   \n",
            "216  152  63  ...  71   78  408.0     0.484  0.511  0.405  0.824     16.4   \n",
            "\n",
            "       WS   BPM  \n",
            "3     0.9  -1.3  \n",
            "5     2.9   7.9  \n",
            "6     6.1   8.9  \n",
            "8     4.9  10.5  \n",
            "10    2.2   3.3  \n",
            "..    ...   ...  \n",
            "204   3.9   9.1  \n",
            "207   1.7   1.8  \n",
            "208   1.2   1.9  \n",
            "210  -0.2  -3.8  \n",
            "216   3.7   3.5  \n",
            "\n",
            "[98 rows x 21 columns]\n"
          ]
        }
      ]
    },
    {
      "cell_type": "code",
      "source": [
        "#3.b) Who are the top 3 Assist Leads in the League?\n",
        "acc_basketball_df['AST'] = pd.to_numeric(acc_basketball_df['AST'], errors='coerce')\n",
        "assist = acc_basketball_df[['Player','AST']]\n",
        "highest_assists = assist.nlargest(3, 'AST')\n",
        "print('The player with the highest total assists is:', highest_assists)"
      ],
      "metadata": {
        "colab": {
          "base_uri": "https://localhost:8080/"
        },
        "id": "o00iUi84FZMu",
        "outputId": "64d74020-5ad4-49d6-fa64-2e356fb2c67e"
      },
      "execution_count": null,
      "outputs": [
        {
          "output_type": "stream",
          "name": "stdout",
          "text": [
            "The player with the highest total assists is:              Player    AST\n",
            "8     Reece Beekman  212.0\n",
            "216  Jaeden Zackery  152.0\n",
            "22    Elliot Cadeau  150.0\n"
          ]
        }
      ]
    },
    {
      "cell_type": "code",
      "source": [
        "#3.c) Who are the top 3 Shot Blockers?\n",
        "acc_basketball_df['BLK'] = pd.to_numeric(acc_basketball_df['Unnamed: 10'], errors='coerce')\n",
        "top_blockers = acc_basketball_df[['Player','BLK']]\n",
        "print('The player with the highest total assists is:', top_blockers.nlargest(3, 'BLK'))"
      ],
      "metadata": {
        "colab": {
          "base_uri": "https://localhost:8080/"
        },
        "id": "H8nJyD3KFw6M",
        "outputId": "fcf64b30-2f19-4977-9f2e-1a652c9bc5a9"
      },
      "execution_count": null,
      "outputs": [
        {
          "output_type": "stream",
          "name": "stdout",
          "text": [
            "The player with the highest total assists is:             Player   BLK\n",
            "52       Ryan Dunn  77.0\n",
            "158   Quinten Post  61.0\n",
            "6    Armando Bacot  56.0\n"
          ]
        }
      ]
    },
    {
      "cell_type": "code",
      "source": [
        "#4.a) Group the players by School and calculate the total points scored by each school.\n",
        "acc_basketball_df['PTS'] = pd.to_numeric(acc_basketball_df['PTS'], errors='coerce')\n",
        "school_points = acc_basketball_df.groupby('School')['PTS'].sum()\n",
        "print(school_points)"
      ],
      "metadata": {
        "colab": {
          "base_uri": "https://localhost:8080/"
        },
        "id": "1TA6hvGBMuHt",
        "outputId": "e061c068-b02a-4c6d-a432-1e2e1ea05512"
      },
      "execution_count": null,
      "outputs": [
        {
          "output_type": "stream",
          "name": "stdout",
          "text": [
            "School\n",
            "Boston College    2667.0\n",
            "Clemson           2785.0\n",
            "Duke              2830.0\n",
            "Florida State     2526.0\n",
            "Georgia Tech      2272.0\n",
            "Louisville        2304.0\n",
            "Miami (FL)        2424.0\n",
            "NC State          3101.0\n",
            "North Carolina    3032.0\n",
            "Notre Dame        2113.0\n",
            "Pittsburgh        2495.0\n",
            "School               0.0\n",
            "Syracuse          2442.0\n",
            "Virginia          2140.0\n",
            "Virginia Tech     2547.0\n",
            "Wake Forest       2733.0\n",
            "Name: PTS, dtype: float64\n"
          ]
        }
      ]
    },
    {
      "cell_type": "code",
      "source": [
        "#4.b) Group the players by school and calculate the total assists (AST) for each team.\n",
        "acc_basketball_df['AST'] = pd.to_numeric(acc_basketball_df['AST'], errors='coerce')\n",
        "school_assists = acc_basketball_df.groupby('School')['AST'].sum()\n",
        "print('The total assists by each school are:', school_assists)"
      ],
      "metadata": {
        "colab": {
          "base_uri": "https://localhost:8080/"
        },
        "id": "rAWdY4CUNtY7",
        "outputId": "5b462e57-7d66-4443-b7f9-db5af2ca7c68"
      },
      "execution_count": null,
      "outputs": [
        {
          "output_type": "stream",
          "name": "stdout",
          "text": [
            "The total assists by each school are: School\n",
            "Boston College    509.0\n",
            "Clemson           533.0\n",
            "Duke              551.0\n",
            "Florida State     406.0\n",
            "Georgia Tech      425.0\n",
            "Louisville        356.0\n",
            "Miami (FL)        454.0\n",
            "NC State          536.0\n",
            "North Carolina    536.0\n",
            "Notre Dame        335.0\n",
            "Pittsburgh        452.0\n",
            "School              0.0\n",
            "Syracuse          442.0\n",
            "Virginia          509.0\n",
            "Virginia Tech     514.0\n",
            "Wake Forest       429.0\n",
            "Name: AST, dtype: float64\n"
          ]
        }
      ]
    },
    {
      "cell_type": "code",
      "source": [
        "#4.c) Sort the schools by total points scored and display the top 3 schools.\n",
        "acc_basketball_df['PTS'] = pd.to_numeric(acc_basketball_df['PTS'], errors='coerce')\n",
        "school_points = acc_basketball_df.groupby('School')['PTS'].sum()\n",
        "print('The top three schools by points are:', school_points.nlargest(3))"
      ],
      "metadata": {
        "colab": {
          "base_uri": "https://localhost:8080/"
        },
        "id": "tsQ1q0cYOMOG",
        "outputId": "814feaee-7b83-4ae2-d145-8963d7042dcc"
      },
      "execution_count": null,
      "outputs": [
        {
          "output_type": "stream",
          "name": "stdout",
          "text": [
            "The top three schools by points are: School\n",
            "NC State          3101.0\n",
            "North Carolina    3032.0\n",
            "Duke              2830.0\n",
            "Name: PTS, dtype: float64\n"
          ]
        }
      ]
    },
    {
      "cell_type": "code",
      "source": [
        "#What did you learn about working with CSV files and pandas DataFrames in this assignment?\n",
        "\n",
        "'''Working with this .csv file, I felt that I had to really hone in on the skills\n",
        "I learned in DS 1002---specifically, presentation and how best to convey the data\n",
        "in a 'clean' display. Utilizing \".groupby\" to aggragate the data and adding informational introductions\n",
        "such as 'The top three schools are:' before the data was displayed assisted heavily in doing this by\n",
        "allowing me to display values from specific columns into a concise table that\n",
        "conveyed exactly what I wanted to convey. Moreover, the aesthetic choice to\n",
        "change the column names into something more recallable (ex: 'Unnamed: 0' to 'RNK')\n",
        "not only assisted in legibility, but my productivity as well. Overall, I just\n",
        "learned to be smarter and more thoughtful about what I was doing with the data.\n",
        "Moving foward, I'll not only have received the experience I gained carrying out\n",
        "these specific tasks, but I now have a much better understanding of the interconnected\n",
        "frameworks that make up pandas and .csv files. This is directly applicable to\n",
        "future projects.  '''"
      ],
      "metadata": {
        "id": "8FKTxbU_UTfX"
      },
      "execution_count": null,
      "outputs": []
    },
    {
      "cell_type": "code",
      "source": [
        "#What was the most challenging aspect of this assignment, and how did you overcome i?\n",
        "'''The most challenging aspect of this assignment was figuring out how to to filter\n",
        "the data down to only the most principal information by carefully crafting together\n",
        "string indexes to create a complex, legible phrase. In past data science classes,\n",
        "we've only had experience crafting simple phrases that often only did 1-2 mechanisms\n",
        "at a time. Here, we're having to expand heavily on this by coupling different pandas\n",
        "functions to do multiple things at once. It's like building Legos. '''"
      ],
      "metadata": {
        "id": "JmTLWdiLUdLO"
      },
      "execution_count": null,
      "outputs": []
    },
    {
      "cell_type": "code",
      "source": [
        "#How do you think the insights gained from analyzing ACC basketball statistics could be applied to other real-world datasets?\n",
        "\n",
        "'''This is directly applicable to my studies as as pre-law student, and the data collection\n",
        "and analysis that is done in law firms. Interning at a law firm, I'm shown first-hand\n",
        "how much attention to detail is required in order\n",
        "to be a proper lawyer. Leaving out the shortest phrase, detail, or piece\n",
        "of evidence, or not properly examining an opposing lawyer's submission for discovery\n",
        "can throw the whole case, and even minor mistakes can get you sued for malpractice.  '''"
      ],
      "metadata": {
        "id": "zbBVwu87Uj4n"
      },
      "execution_count": null,
      "outputs": []
    }
  ]
}