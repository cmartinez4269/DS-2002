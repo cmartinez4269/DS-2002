{
  "nbformat": 4,
  "nbformat_minor": 0,
  "metadata": {
    "colab": {
      "provenance": [],
      "include_colab_link": true
    },
    "kernelspec": {
      "name": "python3",
      "display_name": "Python 3"
    },
    "language_info": {
      "name": "python"
    }
  },
  "cells": [
    {
      "cell_type": "markdown",
      "metadata": {
        "id": "view-in-github",
        "colab_type": "text"
      },
      "source": [
        "<a href=\"https://colab.research.google.com/github/cmartinez4269/DS-2002/blob/main/DS2002__Project1.ipynb\" target=\"_parent\"><img src=\"https://colab.research.google.com/assets/colab-badge.svg\" alt=\"Open In Colab\"/></a>"
      ]
    },
    {
      "cell_type": "code",
      "execution_count": null,
      "metadata": {
        "id": "LB3wZnmkummh"
      },
      "outputs": [],
      "source": [
        "# Dean Paler (hdh4ys) & Carina Martinez (fyv5hu)"
      ]
    },
    {
      "cell_type": "code",
      "source": [
        "from google.colab import drive\n",
        "drive.mount('/content/drive')"
      ],
      "metadata": {
        "id": "LQQ6TbryutPB",
        "colab": {
          "base_uri": "https://localhost:8080/"
        },
        "outputId": "823812de-88b9-4b80-b4f2-b78f2369c4ea"
      },
      "execution_count": 2,
      "outputs": [
        {
          "output_type": "stream",
          "name": "stdout",
          "text": [
            "Drive already mounted at /content/drive; to attempt to forcibly remount, call drive.mount(\"/content/drive\", force_remount=True).\n"
          ]
        }
      ]
    },
    {
      "cell_type": "code",
      "source": [
        "# Import Statements\n",
        "import requests\n",
        "import pandas as pd\n",
        "from io import StringIO\n",
        "import json\n",
        "import sqlite3"
      ],
      "metadata": {
        "id": "0X1ttCbtuya4"
      },
      "execution_count": 3,
      "outputs": []
    },
    {
      "cell_type": "markdown",
      "source": [
        "CSV/JSON to User Output Preference"
      ],
      "metadata": {
        "id": "5HqpE3FMu1q2"
      }
    },
    {
      "cell_type": "code",
      "source": [
        "# Function to get number of columns and rows in a dataframe\n",
        "def column_records_df(df):\n",
        "    num_cols = len(df.columns)\n",
        "    num_recs = len(df)\n",
        "    print(\"Number of columns: \" + str(num_cols))\n",
        "    print(\"Number of records: \" + str(num_recs))\n",
        "\n",
        "# Fetching CSV file data\n",
        "def fetch_csv_data(file_path):\n",
        "    try:\n",
        "        data = pd.read_csv(file_path)\n",
        "        return data\n",
        "    except Exception as err:\n",
        "        print(f\"An error occurred: {err}\")\n",
        "\n",
        "# Fetching api JSON data\n",
        "def fetch_api_data(api_url):\n",
        "    try:\n",
        "        response = requests.get(api_url)\n",
        "        response.raise_for_status()\n",
        "        data = response.json()\n",
        "        return data[\"results\"]\n",
        "    except Exception as err:\n",
        "        print(f\"An error occurred: {err}\")  # Handle other errors\n",
        "\n",
        "# Altering DF\n",
        "def alter_csv_data(df):\n",
        "  # Adding 'Free Time' column to see what time isn't spent studying, sleeping, or working out\n",
        "  df['Free_Time'] = 24 - (df['Study_Hours'] + df['Sleep_Duration'] + (df['Physical_Activity']/60))\n",
        "\n",
        "  # If negative, then there is no free time in a 24 hour period\n",
        "  df[\"Negative_Free_Time_Flag\"] = df[\"Free_Time\"] < 0\n",
        "\n",
        "  #Dropping unnecessary columsn\n",
        "  df.drop(columns=['Study_Hours', 'Weekday_Sleep_End', 'Weekend_Sleep_End', 'Weekday_Sleep_Start', 'Weekend_Sleep_Start'], inplace = True)\n",
        "\n",
        "# Altering DF\n",
        "def alter_df(df):\n",
        "  #Removing all of the columns except for ID, name, powerstats data, and connection.\n",
        "  filtered_df = df[['id', 'name', 'powerstats.intelligence', 'powerstats.strength', 'powerstats.speed', 'powerstats.durability', 'powerstats.power', 'powerstats.combat', 'connections.group-affiliation', 'connections.relatives']]\n",
        "  return filtered_df\n",
        "\n",
        "def save_output(df, format):\n",
        "\n",
        "    #Outputting df to json\n",
        "    if format == 'json':\n",
        "      file_name = input('Enter the output file name (with extension): ')\n",
        "      df.to_json(file_name, orient='records')\n",
        "      print(f'JSON data saved to {file_name}')\n",
        "\n",
        "    # Outputting df to csv file\n",
        "    elif format == 'csv':\n",
        "      file_name = input('Enter the output file name (with extension): ')\n",
        "      df.to_csv(file_name, index=False)\n",
        "      print(f'CSV data saved to {file_name}')\n",
        "\n",
        "    # Outputting df to sql database\n",
        "    elif format == 'sql':\n",
        "      db_name = input('Enter the SQL database name (add.sql at the end): ')\n",
        "      table_name = input('Enter name for table: ')\n",
        "      conn = sqlite3.connect (db_name)\n",
        "      for column in df.columns:\n",
        "        if df[column].dtype not in [str, int, float]:\n",
        "          df[column] = df[column].astype(str)\n",
        "          if table_name:\n",
        "              df.to_sql(table_name, conn, if_exists='replace', index=False)\n",
        "      conn.close()\n",
        "      print(f'Data stored in SQL database: {db_name}, table: {table_name}')\n",
        "      column_records_df(df)\n",
        "    else:\n",
        "      print('Invalid output format. Supported formats are: json, csv, sql')\n",
        "\n",
        "# Converting data based on the given input\n",
        "def process_data(input_format, data):\n",
        "    if input_format == 'json':\n",
        "      return pd.json_normalize(data)\n",
        "    elif input_format == 'csv':\n",
        "      return pd.read_csv(StringIO(data))\n",
        "\n",
        "def main():\n",
        "  # api url and file path\n",
        "  api_url = \"https://superheroapi.com/api/98d918463db4cba596fc90cb20983844/search/batman\"\n",
        "  file_path = \"/content/student_sleep_patterns.csv\"\n",
        "\n",
        "  #input format from user\n",
        "  input_format = input('Enter input format (csv, json): ').lower()\n",
        "\n",
        "  #if json input, then the api data will be fetched, else the csv file will be used\n",
        "  if input_format == 'json':\n",
        "    batman_data = fetch_api_data(api_url)\n",
        "    df = process_data(input_format, batman_data)\n",
        "  elif input_format == 'csv':\n",
        "    df = fetch_csv_data(file_path)\n",
        "\n",
        "  #pre processing records and columns numbers\n",
        "  print('Pre Processing Summary:')\n",
        "  column_records_df(df)\n",
        "\n",
        "  # processing the df based on the type of input\n",
        "  if input_format == 'json':\n",
        "    df = alter_df(df)\n",
        "  elif input_format == 'csv':\n",
        "    alter_csv_data(df)\n",
        "\n",
        "  #post processing reocrds and columns numbers\n",
        "  print('Post Processing Summary:')\n",
        "  column_records_df(df)\n",
        "\n",
        "  #Asking user for type of output and saving it\n",
        "  output_format = input('Enter output format (csv, json, sql): ').lower()\n",
        "  save_output(df, output_format)\n",
        "\n",
        "if __name__ == \"__main__\":\n",
        "  main()\n",
        "\n"
      ],
      "metadata": {
        "id": "XgM-KAY3u0Bi",
        "colab": {
          "base_uri": "https://localhost:8080/"
        },
        "outputId": "676338cc-a86c-4592-8495-f868f8e70b8a"
      },
      "execution_count": 14,
      "outputs": [
        {
          "output_type": "stream",
          "name": "stdout",
          "text": [
            "Enter input format (csv, json): json\n",
            "Pre Processing Summary:\n",
            "Number of columns: 26\n",
            "Number of records: 3\n",
            "Post Processing Summary:\n",
            "Number of columns: 10\n",
            "Number of records: 3\n",
            "Enter output format (csv, json, sql): csv\n",
            "Enter the output file name (with extension): csv.csv\n",
            "CSV data saved to csv.csv\n"
          ]
        }
      ]
    }
  ]
}