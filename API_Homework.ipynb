{
  "nbformat": 4,
  "nbformat_minor": 0,
  "metadata": {
    "colab": {
      "provenance": [],
      "authorship_tag": "ABX9TyNtDM2RYRn0PKKgWTM0yyPb",
      "include_colab_link": true
    },
    "kernelspec": {
      "name": "python3",
      "display_name": "Python 3"
    },
    "language_info": {
      "name": "python"
    }
  },
  "cells": [
    {
      "cell_type": "markdown",
      "metadata": {
        "id": "view-in-github",
        "colab_type": "text"
      },
      "source": [
        "<a href=\"https://colab.research.google.com/github/cmartinez4269/DS-2002/blob/main/API_Homework.ipynb\" target=\"_parent\"><img src=\"https://colab.research.google.com/assets/colab-badge.svg\" alt=\"Open In Colab\"/></a>"
      ]
    },
    {
      "cell_type": "code",
      "execution_count": 2,
      "metadata": {
        "id": "HggLHJ1Cn4av",
        "collapsed": true,
        "colab": {
          "base_uri": "https://localhost:8080/",
          "height": 71
        },
        "outputId": "65f61eaf-f574-49bb-af26-59c6291fe558"
      },
      "outputs": [
        {
          "output_type": "execute_result",
          "data": {
            "text/plain": [
              "' Challenge: You have seen some examples of how to interact with JSON, CSV,\\nand make API Calls. Take some time to explore the YAHOO finance guide at\\nhttps://financeapi.net/ which shows you endpoints for calling information.\\nYour job is to code a Python Program that does the following things: '"
            ],
            "application/vnd.google.colaboratory.intrinsic+json": {
              "type": "string"
            }
          },
          "metadata": {},
          "execution_count": 2
        }
      ],
      "source": [
        "#Carina Martinez\n",
        "#computing ID: fyv5hu\n",
        "\n",
        "''' Challenge: You have seen some examples of how to interact with JSON, CSV,\n",
        "and make API Calls. Take some time to explore the YAHOO finance guide at\n",
        "https://financeapi.net/ which shows you endpoints for calling information.\n",
        "Your job is to code a Python Program that does the following things: '''"
      ]
    },
    {
      "cell_type": "code",
      "source": [
        "#1. Take user input for a stock (using the Ticker Symbol): IE with the input() command.\n",
        "\n",
        "import requests\n",
        "import json\n",
        "import pandas as pd\n",
        "import matplotlib.pyplot as plt\n",
        "\n",
        "def get_stock(ticker):\n",
        "  url = f'https://yfapi.net/v6/finance/quote?region=US&lang=en&symbols=AAPL%2CBTC-USD%2CEURUSD%3DX={ticker}'\n",
        "  headers = {\n",
        "      'x-api-key': 'FWY7t0U9029B8t1AVjiLt6EOh8vuRai59aIO1Jhv'\n",
        "  }\n",
        "  try:\n",
        "    response = requests.get(url, headers=headers)\n",
        "    if response.status_code == 200:\n",
        "     data = response.json()\n",
        "     if 'quoteResponse' in data and 'result' in data['quoteResponse']:\n",
        "         quote = data['quoteResponse']['result'][0]\n",
        "     else:\n",
        "        print('No data found for ticker.')\n",
        "        return None\n",
        "    else:\n",
        "     print(f'Error in fetching stocks data. Error code: {response.status_code}')\n",
        "     return None\n",
        "\n",
        "#2: Display Ticker Name, Full Name of Stock, Current Mark Price, Target Mean Price, 52 weeks high and low; current 5 trending stock.\n",
        "    stock_data = {\n",
        "      'Ticker Name': quote.get('symbol'),\n",
        "      'Full Name of Stock': quote.get('longName'),\n",
        "      'Current Mark Price': quote.get('regularMarketPrice'),\n",
        "      'Target Mean Price': quote.get('targetMarketPrice'),\n",
        "      '52 Weeks High': quote.get('fiftyTwoWeekHigh'),\n",
        "      '52 Weeks Low': quote.get('fiftyTwoWeekLow')\n",
        "    }\n",
        "\n",
        "    return stock_data\n",
        "\n",
        "  except requests.exceptions.RequestException as e:\n",
        "    print(f'No data found for ticker. Error code: {ticker}: {e}')\n",
        "    return None\n",
        "\n",
        "def trending_stocks():\n",
        "  url = 'https://yfapi.net/v1/finance/trending/US'\n",
        "  headers = {\n",
        "      'x-api-key': 'FWY7t0U9029B8t1AVjiLt6EOh8vuRai59aIO1Jhv'\n",
        "  }\n",
        "  response = requests.get(url, headers=headers)\n",
        "  if response.status_code == 200:\n",
        "     data = response.json()\n",
        "     if 'finance' in data and 'result' in data['finance'] and len(data['finance']['result']) >0:\n",
        "       return [stock['symbol'] for stock in data['finance']['result'][0]['quotes'][:5]]\n",
        "     else:\n",
        "        print('No data found in trending stocks.')\n",
        "        return []\n",
        "  else:\n",
        "        print(f'Error fetching trending stock data. Error code: {response.status_code}')\n",
        "        return []\n",
        "\n",
        "#3. Create a DataFrame and save data as a CSV file.\n",
        "def main():\n",
        "  ticker = input('Enter a stock ticker: ').upper()\n",
        "  stock_data = get_stock(ticker)\n",
        "\n",
        "  if stock_data:\n",
        "    print('\\nStock Information:')\n",
        "    for key, value in stock_data.items():\n",
        "      print(f'{key}: {value}')\n",
        "\n",
        "    top_trending = trending_stocks()\n",
        "    print('\\nTop 5 Trending Stocks:')\n",
        "    for stock in top_trending:\n",
        "      print(stock)\n",
        "\n",
        "    df = pd.DataFrame([stock_data])\n",
        "    df.to_csv('stock_data.csv', index=False)\n",
        "    df.to_csv(f'{ticker}_stock_data.csv', index=False)\n",
        "    print(f'\\nData saved to {ticker}_stock_data.csv')\n",
        "\n",
        "  else:\n",
        "    print('No data found for the stock.')\n",
        "\n",
        "if __name__ == '__main__':\n",
        "  main()"
      ],
      "metadata": {
        "id": "d7McVfg4obv_",
        "colab": {
          "base_uri": "https://localhost:8080/"
        },
        "outputId": "afa5b2c3-03fe-4b6d-a0fa-802436a75e53"
      },
      "execution_count": 23,
      "outputs": [
        {
          "output_type": "stream",
          "name": "stdout",
          "text": [
            "Enter a stock ticker: AAPL\n",
            "\n",
            "Stock Information:\n",
            "Ticker Name: AAPL\n",
            "Full Name of Stock: Apple Inc.\n",
            "Current Mark Price: 226.96\n",
            "Target Mean Price: None\n",
            "52 Weeks High: 237.49\n",
            "52 Weeks Low: 164.08\n",
            "\n",
            "Top 5 Trending Stocks:\n",
            "BTC-USD\n",
            "ETH-USD\n",
            "DOGE-USD\n",
            "SHIB-USD\n",
            "ETH-CAD\n",
            "\n",
            "Data saved to AAPL_stock_data.csv\n"
          ]
        }
      ]
    }
  ]
}