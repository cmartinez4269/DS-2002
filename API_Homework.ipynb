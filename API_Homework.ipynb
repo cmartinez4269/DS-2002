{
  "nbformat": 4,
  "nbformat_minor": 0,
  "metadata": {
    "colab": {
      "provenance": [],
      "authorship_tag": "ABX9TyPqStoFRA64seUK2JMRE4Me",
      "include_colab_link": true
    },
    "kernelspec": {
      "name": "python3",
      "display_name": "Python 3"
    },
    "language_info": {
      "name": "python"
    }
  },
  "cells": [
    {
      "cell_type": "markdown",
      "metadata": {
        "id": "view-in-github",
        "colab_type": "text"
      },
      "source": [
        "<a href=\"https://colab.research.google.com/github/cmartinez4269/DS-2002/blob/main/API_Homework.ipynb\" target=\"_parent\"><img src=\"https://colab.research.google.com/assets/colab-badge.svg\" alt=\"Open In Colab\"/></a>"
      ]
    },
    {
      "cell_type": "code",
      "execution_count": null,
      "metadata": {
        "id": "HggLHJ1Cn4av"
      },
      "outputs": [],
      "source": [
        "#Carina Martinez\n",
        "#computing ID: fyv5hu\n",
        "\n",
        "''' Challenge: You have seen some examples of how to interact with JSON, CSV,\n",
        "and make API Calls. Take some time to explore the YAHOO finance guide at\n",
        "https://financeapi.net/ which shows you endpoints for calling information.\n",
        "Your job is to code a Python Program that does the following things: '''"
      ]
    },
    {
      "cell_type": "code",
      "source": [
        "#1. Takes user input for a stock (using the Ticker Symbol): IE with the input() command.\n",
        "\n",
        "import requests\n",
        "import json\n",
        "import pandas as pd\n",
        "apikey ="
      ],
      "metadata": {
        "id": "d7McVfg4obv_"
      },
      "execution_count": null,
      "outputs": []
    },
    {
      "cell_type": "code",
      "source": [
        "'''2. You will display back the user: Ticker Name, Full Name of the Stock, Current Market\n",
        "Price, Target Mean Price, 52 week high and 52 week low. Also, output 5 of the current\n",
        "trending stock.'''"
      ],
      "metadata": {
        "id": "q_DE5B0Wofu4"
      },
      "execution_count": null,
      "outputs": []
    },
    {
      "cell_type": "code",
      "source": [
        "#3. Put that data in a DataFrame and then store that to a CSV file"
      ],
      "metadata": {
        "id": "7P3AVAQYoktv"
      },
      "execution_count": null,
      "outputs": []
    },
    {
      "cell_type": "code",
      "source": [
        "'''4. Handle Errors (IE, the stock doesn’t exist and/or the API is not returning information)\n",
        "You will have to read the documentation and figure out which modules to call to get the data\n",
        "that you need. You will need to make more than one call to this API. Use the examples in our\n",
        "Zoom Session to guide you, but the documentation will be enough. Post your code to GitHub. '''\n",
        "\n",
        "\n",
        "\n",
        "\n",
        "\n"
      ],
      "metadata": {
        "id": "cdBvSUt0oowS"
      },
      "execution_count": null,
      "outputs": []
    }
  ]
}